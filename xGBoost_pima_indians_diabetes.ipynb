{
 "cells": [
  {
   "cell_type": "markdown",
   "metadata": {},
   "source": [
    "### PIMA INDIANS DIABETES - UCI MACHINE LEARNING REPOSITORY\n",
    "\n",
    "Abstract: From National Institute of Diabetes and Digestive and Kidney Diseases; \n",
    "\n",
    "Data Set Characteristics:  Multivariate\n",
    "Number of Instances:768\n",
    "Area:Life\n",
    "Attribute Characteristics:Integer, Real\n",
    "Number of Attributes:8\n",
    "Date Donated:1990-05-09\n",
    "Associated Tasks:Classification\n",
    "Missing ValuesYes\n",
    "Number of Web Hits:339124\n",
    "\n",
    "Source:\n",
    "Original Owners: \n",
    "\n",
    "National Institute of Diabetes and Digestive and Kidney Diseases \n",
    "\n",
    "Donor of database: \n",
    "\n",
    "Vincent Sigillito (vgs '@' aplcen.apl.jhu.edu) \n",
    "Research Center, RMI Group Leader \n",
    "Applied Physics Laboratory \n",
    "The Johns Hopkins University \n",
    "Johns Hopkins Road \n",
    "Laurel, MD 20707 \n",
    "(301) 953-6231\n",
    "\n",
    "Data Set Information:\n",
    "Several constraints were placed on the selection of these instances from a larger database. In particular, all patients here are females at least 21 years old of Pima Indian heritage. ADAP is an adaptive learning routine that generates and executes digital analogs of perceptron-like devices. It is a unique algorithm; see the paper for details.\n",
    "\n",
    "\n",
    "#### Attribute Information:\n",
    "F0 - Number of times pregnant \n",
    "F1 - Plasma glucose concentration a 2 hours in an oral glucose tolerance test \n",
    "F2 - Diastolic blood pressure (mm Hg) \n",
    "F3 - Triceps skin fold thickness (mm) \n",
    "F4 - 2-Hour serum insulin (mu U/ml) \n",
    "F5 - Body mass index (weight in kg/(height in m)^2) \n",
    "F6 - Diabetes pedigree function \n",
    "F7 - Age (years) \n",
    "Class variable (0 or 1) "
   ]
  },
  {
   "cell_type": "markdown",
   "metadata": {},
   "source": [
    "##### import the packages "
   ]
  },
  {
   "cell_type": "code",
   "execution_count": 1,
   "metadata": {
    "collapsed": false
   },
   "outputs": [],
   "source": [
    "from xgboost import XGBClassifier\n",
    "import numpy as np\n",
    "from sklearn.model_selection  import train_test_split\n",
    "from sklearn.metrics import accuracy_score \n",
    "from matplotlib import pyplot \n",
    "from xgboost import plot_importance\n",
    "\n",
    "\n"
   ]
  },
  {
   "cell_type": "code",
   "execution_count": null,
   "metadata": {
    "collapsed": true
   },
   "outputs": [],
   "source": [
    "###### read in the data into a np array"
   ]
  },
  {
   "cell_type": "code",
   "execution_count": null,
   "metadata": {
    "collapsed": true
   },
   "outputs": [],
   "source": [
    "dataset = np.genfromtxt('../data/pima-indians-diabetes.txt',delimiter=\",\")\n",
    "X=  dataset[:,0:8]\n",
    "Y = dataset[:,8]\n"
   ]
  },
  {
   "cell_type": "markdown",
   "metadata": {},
   "source": [
    "####### partition the data into training set and test holdout sets"
   ]
  },
  {
   "cell_type": "code",
   "execution_count": 3,
   "metadata": {
    "collapsed": false
   },
   "outputs": [],
   "source": [
    "seed = 7\n",
    "test_size = 0.33\n",
    "X_train, X_test, y_train, y_test = train_test_split(X,Y, test_size=test_size, random_state=seed)"
   ]
  },
  {
   "cell_type": "markdown",
   "metadata": {},
   "source": [
    "######## use a XGBoost classifer "
   ]
  },
  {
   "cell_type": "code",
   "execution_count": null,
   "metadata": {
    "collapsed": true
   },
   "outputs": [],
   "source": [
    "model=XGBClassifier(learning_rate=0.001, silent=False)\n",
    "model.fit(X_train, y_train, verbose=True, eval_metric=\"error\")\n"
   ]
  },
  {
   "cell_type": "markdown",
   "metadata": {},
   "source": [
    "##### Plot the imortant features of the model"
   ]
  },
  {
   "cell_type": "code",
   "execution_count": 4,
   "metadata": {
    "collapsed": false
   },
   "outputs": [
    {
     "data": {
      "image/png": "[encoded data removed]",
      "text/plain": [
       "<matplotlib.figure.Figure at 0x1764b58dc88>"
      ]
     },
     "metadata": {},
     "output_type": "display_data"
    }
   ],
   "source": [
    "\n",
    "plot_importance(model)\n",
    "pyplot.show()"
   ]
  },
  {
   "cell_type": "code",
   "execution_count": null,
   "metadata": {
    "collapsed": true
   },
   "outputs": [],
   "source": [
    "F0 - Number of times pregnant \n",
    "F1 - Plasma glucose concentration a 2 hours in an oral glucose tolerance test \n",
    "F2 - Diastolic blood pressure (mm Hg) \n",
    "F3 - Triceps skin fold thickness (mm) \n",
    "F4 - 2-Hour serum insulin (mu U/ml) \n",
    "F5 - Body mass index (weight in kg/(height in m)^2) \n",
    "F6 - Diabetes pedigree function \n",
    "F7 - Age (years) "
   ]
  },
  {
   "cell_type": "code",
   "execution_count": 5,
   "metadata": {
    "collapsed": false
   },
   "outputs": [
    {
     "data": {
      "text/plain": [
       "array([[  3.00000000e+00,   1.02000000e+02,   4.40000000e+01,\n",
       "          2.00000000e+01,   9.40000000e+01,   3.08000000e+01,\n",
       "          4.00000000e-01,   2.60000000e+01],\n",
       "       [  1.00000000e+00,   7.70000000e+01,   5.60000000e+01,\n",
       "          3.00000000e+01,   5.60000000e+01,   3.33000000e+01,\n",
       "          1.25100000e+00,   2.40000000e+01],\n",
       "       [  9.00000000e+00,   1.24000000e+02,   7.00000000e+01,\n",
       "          3.30000000e+01,   4.02000000e+02,   3.54000000e+01,\n",
       "          2.82000000e-01,   3.40000000e+01]])"
      ]
     },
     "execution_count": 5,
     "metadata": {},
     "output_type": "execute_result"
    }
   ],
   "source": [
    "X_train[:3,:]\n"
   ]
  },
  {
   "cell_type": "code",
   "execution_count": 6,
   "metadata": {
    "collapsed": false
   },
   "outputs": [
    {
     "name": "stdout",
     "output_type": "stream",
     "text": [
      "XGBClassifier(base_score=0.5, booster='gbtree', colsample_bylevel=1,\n",
      "       colsample_bytree=1, gamma=0, learning_rate=0.1, max_delta_step=0,\n",
      "       max_depth=3, min_child_weight=1, missing=None, n_estimators=100,\n",
      "       n_jobs=1, nthread=None, objective='binary:logistic', random_state=0,\n",
      "       reg_alpha=0, reg_lambda=1, scale_pos_weight=1, seed=None,\n",
      "       silent=False, subsample=1)\n"
     ]
    }
   ],
   "source": [
    "print(model)"
   ]
  },
  {
   "cell_type": "code",
   "execution_count": 7,
   "metadata": {
    "collapsed": true
   },
   "outputs": [],
   "source": [
    "y_pred = model.predict(X_test)\n",
    "predictions = [round(value) for value in y_pred]"
   ]
  },
  {
   "cell_type": "code",
   "execution_count": 8,
   "metadata": {
    "collapsed": true
   },
   "outputs": [],
   "source": [
    "accuracy = accuracy_score(y_test, predictions)"
   ]
  },
  {
   "cell_type": "code",
   "execution_count": 9,
   "metadata": {
    "collapsed": false
   },
   "outputs": [
    {
     "name": "stdout",
     "output_type": "stream",
     "text": [
      "Accuracy: 77.95%\n"
     ]
    }
   ],
   "source": [
    "print(\"Accuracy: %.2f%%\" %(accuracy * 100.00))"
   ]
  },
  {
   "cell_type": "code",
   "execution_count": null,
   "metadata": {
    "collapsed": true
   },
   "outputs": [],
   "source": []
  },
  {
   "cell_type": "code",
   "execution_count": null,
   "metadata": {
    "collapsed": true
   },
   "outputs": [],
   "source": []
  },
  {
   "cell_type": "code",
   "execution_count": null,
   "metadata": {
    "collapsed": true
   },
   "outputs": [],
   "source": []
  }
 ],
 "metadata": {
  "kernelspec": {
   "display_name": "Python 3",
   "language": "python",
   "name": "python3"
  },
  "language_info": {
   "codemirror_mode": {
    "name": "ipython",
    "version": 3
   },
   "file_extension": ".py",
   "mimetype": "text/x-python",
   "name": "python",
   "nbconvert_exporter": "python",
   "pygments_lexer": "ipython3",
   "version": "3.6.0"
  }
 },
 "nbformat": 4,
 "nbformat_minor": 2
}
